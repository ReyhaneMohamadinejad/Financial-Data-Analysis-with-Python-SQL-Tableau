{
 "cells": [
  {
   "cell_type": "code",
   "execution_count": 9,
   "id": "c58bb4ba-46bb-40ae-acec-aae0b0360daa",
   "metadata": {},
   "outputs": [
    {
     "name": "stderr",
     "output_type": "stream",
     "text": [
      "<>:5: SyntaxWarning: invalid escape sequence '\\R'\n",
      "<>:5: SyntaxWarning: invalid escape sequence '\\R'\n",
      "C:\\Users\\Reyhane\\AppData\\Local\\Temp\\ipykernel_13372\\857998901.py:5: SyntaxWarning: invalid escape sequence '\\R'\n",
      "  file_path = \"E:\\Reyhane\\Data for Project for the future\\Data for SQL,Tableau\\Financial_Data.xlsx\"  # change your path\n"
     ]
    },
    {
     "name": "stdout",
     "output_type": "stream",
     "text": [
      "✅ Data successfully loaded into SQL!\n"
     ]
    }
   ],
   "source": [
    "import pandas as pd\n",
    "import pyodbc\n",
    "\n",
    "\n",
    "file_path = \"E:\\Reyhane\\Data for Project for the future\\Data for SQL,Tableau\\Financial_Data.xlsx\"  # change your path\n",
    "df = pd.read_excel(file_path)\n",
    "\n",
    "# cleaning data\n",
    "df['Revenue'] = pd.to_numeric(df['Revenue'], errors='coerce')\n",
    "df['Cost'] = pd.to_numeric(df['Cost'], errors='coerce')\n",
    "df['Profit'] = pd.to_numeric(df['Profit'], errors='coerce')\n",
    "\n",
    "# Remove or replace invalid values\n",
    "\n",
    "df.dropna(subset=['Revenue', 'Cost', 'Profit'], inplace=True)  # \n",
    "# df.fillna({'Revenue': 0, 'Cost': 0, 'Profit': 0}, inplace=True)\n",
    "\n",
    "#Connecting to SQL Server \n",
    "conn = pyodbc.connect(\n",
    "    \"Driver={ODBC Driver 17 for SQL Server};\"\n",
    "    \"Server=DESKTOP-OK9UTDK;\"\n",
    "    \"Database=GithubProject;\"\n",
    "    \"Trusted_Connection=yes;\"\n",
    ")\n",
    "cursor = conn.cursor()\n",
    "\n",
    "# Create a table in SQL Server (if needed)\n",
    "cursor.execute(\"\"\"\n",
    "IF NOT EXISTS (SELECT * FROM sysobjects WHERE name='FinancialData' AND xtype='U')\n",
    "CREATE TABLE FinancialData (\n",
    "    ID INT IDENTITY(1,1) PRIMARY KEY,\n",
    "    Date DATE,\n",
    "    Product NVARCHAR(255),\n",
    "    Category NVARCHAR(255),\n",
    "    Revenue FLOAT,\n",
    "    Cost FLOAT,\n",
    "    Profit FLOAT,\n",
    "    Region NVARCHAR(255),\n",
    "    Customer NVARCHAR(255)\n",
    ")\n",
    "\"\"\")\n",
    "conn.commit()\n",
    "\n",
    "# Clearing previous data before entering new data\n",
    "cursor.execute(\"DELETE FROM FinancialData\")\n",
    "conn.commit()\n",
    "# Inserting data into SQL Server\n",
    "for index, row in df.iterrows():\n",
    "    cursor.execute(\"\"\"\n",
    "        INSERT INTO FinancialData (Date, Product, Category, Revenue, Cost, Profit, Region, Customer) \n",
    "        VALUES (?, ?, ?, ?, ?, ?, ?, ?)\n",
    "    \"\"\", row['Date'], row['Product'].strip(), row['Category'].strip(), \n",
    "       float(row['Revenue']), float(row['Cost']), float(row['Profit']), \n",
    "       row['Region'].strip(), row['Customer'].strip())\n",
    "\n",
    "conn.commit()\n",
    "conn.close()\n",
    "\n",
    "print(\"✅ Data successfully loaded into SQL!\")\n"
   ]
  },
  {
   "cell_type": "code",
   "execution_count": null,
   "id": "1d8eef89-8d2a-4496-a43b-a482782c4bb7",
   "metadata": {},
   "outputs": [],
   "source": []
  }
 ],
 "metadata": {
  "kernelspec": {
   "display_name": "Python [conda env:base] *",
   "language": "python",
   "name": "conda-base-py"
  },
  "language_info": {
   "codemirror_mode": {
    "name": "ipython",
    "version": 3
   },
   "file_extension": ".py",
   "mimetype": "text/x-python",
   "name": "python",
   "nbconvert_exporter": "python",
   "pygments_lexer": "ipython3",
   "version": "3.12.7"
  }
 },
 "nbformat": 4,
 "nbformat_minor": 5
}
